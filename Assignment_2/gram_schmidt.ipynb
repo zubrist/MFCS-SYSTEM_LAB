{
 "cells": [
  {
   "cell_type": "code",
   "execution_count": 15,
   "metadata": {},
   "outputs": [],
   "source": [
    "import numpy as np\n",
    "\n",
    "class GramSchmidt:\n",
    "    \"\"\"\n",
    "    Performs the Gram-Schmidt process to orthonormalize a set of vectors.\n",
    "\n",
    "    The Gram-Schmidt process is an algorithm for orthonormalizing a set of vectors in an inner product space.\n",
    "    It produces a set of vectors that are orthogonal (perpendicular) to each other and have a norm (length) of 1.\n",
    "\n",
    "    Attributes:\n",
    "        dimension (int): The dimension of the vectors.\n",
    "        vectors (np.ndarray): A NumPy array of shape (n, d) representing the input vectors,\n",
    "                             where n is the number of vectors and d is the dimension.\n",
    "        orthonormal_basis (list[np.ndarray], optional): A list of orthonormal vectors resulting from the process,\n",
    "                                                       initialized as None.\n",
    "\n",
    "    Raises:\n",
    "        ValueError: If the dimension is less than or equal to zero, or if any vector has a dimension less\n",
    "                    than the class's dimension, or if the vectors are not linearly independent.\n",
    "    \"\"\"\n",
    "\n",
    "    def __init__(self, dimension, vectors):\n",
    "        \"\"\"\n",
    "        Initializes the GramSchmidt object.\n",
    "\n",
    "        Args:\n",
    "            dimension (int): The dimension of the vectors.\n",
    "            vectors (list[list]): A list of lists representing the input vectors.\n",
    "\n",
    "        Raises:\n",
    "            ValueError: If the dimension is less than or equal to zero, or if any vector has a dimension less\n",
    "                        than the class's dimension, or if the vectors are not linearly independent.\n",
    "        \"\"\"\n",
    "\n",
    "        if dimension <= 0:\n",
    "            raise ValueError(\"Dimension must be greater than 0.\")\n",
    "\n",
    "        self.dimension = dimension\n",
    "        self.vectors = self._validate_and_adjust_vectors(vectors)\n",
    "        if not self._check_linear_independence():\n",
    "            raise ValueError(\"The provided vectors are not linearly independent.\")\n",
    "\n",
    "        self.orthonormal_basis = None  # Initialize as None, populated in process()\n",
    "\n",
    "    def _validate_and_adjust_vectors(self, vectors):\n",
    "        \"\"\"\n",
    "        Validates and adjusts the input vectors.\n",
    "\n",
    "        Ensures all vectors have the correct dimension and adjusts them if necessary:\n",
    "        - If a vector has a dimension less than the class's dimension, raises a ValueError.\n",
    "        - If a vector has a dimension greater than the class's dimension, prints a warning\n",
    "          and truncates it to the correct dimension.\n",
    "\n",
    "        Args:\n",
    "            vectors (list[list]): A list of lists representing the input vectors.\n",
    "\n",
    "        Returns:\n",
    "            np.ndarray: A NumPy array of shape (n, d) representing the validated and adjusted vectors.\n",
    "        \"\"\"\n",
    "\n",
    "        validated_vectors = []\n",
    "        for i, v in enumerate(vectors):\n",
    "            if len(v) < self.dimension:\n",
    "                raise ValueError(f\"Vector {i} has dimension less than {self.dimension}. Please fix it.\")\n",
    "            elif len(v) > self.dimension:\n",
    "                print(f\"Warning: Vector {i} has dimension greater than {self.dimension}. It will be truncated.\")\n",
    "                validated_vectors.append(v[:self.dimension])\n",
    "            else:\n",
    "                validated_vectors.append(v)\n",
    "\n",
    "        return np.array(validated_vectors)\n",
    "\n",
    "    def _check_linear_independence(self):\n",
    "        \"\"\"\n",
    "        Checks if the provided vectors are linearly independent.\n",
    "\n",
    "        Returns:\n",
    "            bool: True if the vectors are linearly independent, False otherwise.\n",
    "        \"\"\"\n",
    "        matrix = np.vstack(self.vectors)\n",
    "        rank = np.linalg.matrix_rank(matrix)\n",
    "        return rank == len(self.vectors)\n",
    "\n",
    "    def process(self):\n",
    "        \"\"\"\n",
    "        Performs the Gram-Schmidt process on the input vectors.\n",
    "\n",
    "        The process iterates through the vectors, projecting each vector onto the previously\n",
    "        computed orthonormal basis vectors and subtracting the projection to obtain a vector orthogonal\n",
    "        to the existing basis. The resulting vector is normalized if its norm is not near zero.\n",
    "\n",
    "        Returns:\n",
    "            list[np.ndarray]: A list of orthonormal vectors resulting from the process.\n",
    "        \"\"\"\n",
    "\n",
    "        u = []\n",
    "        for v in self.vectors:\n",
    "            proj = sum(np.dot(v, ui) / np.dot(ui, ui) * ui for ui in u)\n",
    "            ei = v - proj\n",
    "            if np.linalg.norm(ei) > 1e-10:  # Check if ei is not near zero\n",
    "                u.append(ei)\n",
    "\n",
    "        self.orthonormal_basis = [ui / np.linalg.norm(ui) for ui in u]\n",
    "        return self.orthonormal_basis\n",
    "\n",
    "    def __str__(self):\n",
    "        \"\"\"\n",
    "        Returns a string representation of the class with the orthonormal basis.\n",
    "\n",
    "        Returns:\n",
    "            str: A string representation of the class.\n",
    "        \"\"\"\n",
    "\n",
    "        formatted_basis = [\"[\" + \", \".join(f\"{component:.4f}\" for component in vector) + \"]\" for vector in self.orthonormal_basis]\n",
    "        return \"Orthonormal basis: \" + \", \".join(formatted_basis)\n"
   ]
  },
  {
   "cell_type": "code",
   "execution_count": 7,
   "metadata": {},
   "outputs": [
    {
     "name": "stdout",
     "output_type": "stream",
     "text": [
      "Orthonormal basis: [0.7071, 0.7071, 0.0000], [0.4082, -0.4082, 0.8165], [-0.5774, 0.5774, 0.5774]\n"
     ]
    }
   ],
   "source": [
    "# Example usage:\n",
    "vectors = [[1, 1, 0], [1, 0, 1], [0, 1, 1]]\n",
    "gs = GramSchmidt(3, vectors)\n",
    "orthonormal_basis = gs.process()\n",
    "print(gs)"
   ]
  },
  {
   "cell_type": "code",
   "execution_count": 16,
   "metadata": {},
   "outputs": [
    {
     "name": "stdout",
     "output_type": "stream",
     "text": [
      "Orthonormal basis: [0.4472, 0.8944], [0.8944, -0.4472]\n"
     ]
    }
   ],
   "source": [
    "# Testing with 2D vectors\n",
    "vectors_2d = [[1, 2], [3, 4]]\n",
    "gs_2d = GramSchmidt(2, vectors_2d)\n",
    "orthonormal_basis_2d = gs_2d.process()\n",
    "print(gs_2d)\n"
   ]
  },
  {
   "cell_type": "code",
   "execution_count": 17,
   "metadata": {},
   "outputs": [
    {
     "name": "stdout",
     "output_type": "stream",
     "text": [
      "Warning: Vector 0 has dimension greater than 2. It will be truncated.\n",
      "Warning: Vector 1 has dimension greater than 2. It will be truncated.\n",
      "Orthonormal basis: [0.4472, 0.8944], [0.8944, -0.4472]\n"
     ]
    }
   ],
   "source": [
    "# Vectors with more dimensions than specified, should be truncated\n",
    "vectors_excess = [[1, 2, 3], [4, 5, 6, 7]]\n",
    "gs_excess = GramSchmidt(2, vectors_excess)\n",
    "orthonormal_basis_excess = gs_excess.process()\n",
    "print(gs_excess)\n"
   ]
  },
  {
   "cell_type": "code",
   "execution_count": 18,
   "metadata": {},
   "outputs": [
    {
     "name": "stdout",
     "output_type": "stream",
     "text": [
      "Vector 0 has dimension less than 3. Please fix it.\n"
     ]
    }
   ],
   "source": [
    "# Vectors with less dimensions than specified, should raise an error\n",
    "try:\n",
    "    vectors_insufficient = [[1, 2], [3]]\n",
    "    gs_insufficient = GramSchmidt(3, vectors_insufficient)\n",
    "    orthonormal_basis_insufficient = gs_insufficient.process()\n",
    "    print(gs_insufficient)\n",
    "except ValueError as e:\n",
    "    print(e)\n"
   ]
  },
  {
   "cell_type": "code",
   "execution_count": 19,
   "metadata": {},
   "outputs": [
    {
     "ename": "ValueError",
     "evalue": "The provided vectors are not linearly independent.",
     "output_type": "error",
     "traceback": [
      "\u001b[1;31m---------------------------------------------------------------------------\u001b[0m",
      "\u001b[1;31mValueError\u001b[0m                                Traceback (most recent call last)",
      "Cell \u001b[1;32mIn[19], line 3\u001b[0m\n\u001b[0;32m      1\u001b[0m \u001b[38;5;66;03m# Including a zero vector, should handle gracefully\u001b[39;00m\n\u001b[0;32m      2\u001b[0m vectors_with_zero \u001b[38;5;241m=\u001b[39m [[\u001b[38;5;241m0\u001b[39m, \u001b[38;5;241m0\u001b[39m, \u001b[38;5;241m0\u001b[39m], [\u001b[38;5;241m1\u001b[39m, \u001b[38;5;241m0\u001b[39m, \u001b[38;5;241m1\u001b[39m], [\u001b[38;5;241m0\u001b[39m, \u001b[38;5;241m1\u001b[39m, \u001b[38;5;241m1\u001b[39m]]\n\u001b[1;32m----> 3\u001b[0m gs_with_zero \u001b[38;5;241m=\u001b[39m \u001b[43mGramSchmidt\u001b[49m\u001b[43m(\u001b[49m\u001b[38;5;241;43m3\u001b[39;49m\u001b[43m,\u001b[49m\u001b[43m \u001b[49m\u001b[43mvectors_with_zero\u001b[49m\u001b[43m)\u001b[49m\n\u001b[0;32m      4\u001b[0m orthonormal_basis_with_zero \u001b[38;5;241m=\u001b[39m gs_with_zero\u001b[38;5;241m.\u001b[39mprocess()\n\u001b[0;32m      5\u001b[0m \u001b[38;5;28mprint\u001b[39m(gs_with_zero)\n",
      "Cell \u001b[1;32mIn[15], line 41\u001b[0m, in \u001b[0;36mGramSchmidt.__init__\u001b[1;34m(self, dimension, vectors)\u001b[0m\n\u001b[0;32m     39\u001b[0m \u001b[38;5;28mself\u001b[39m\u001b[38;5;241m.\u001b[39mvectors \u001b[38;5;241m=\u001b[39m \u001b[38;5;28mself\u001b[39m\u001b[38;5;241m.\u001b[39m_validate_and_adjust_vectors(vectors)\n\u001b[0;32m     40\u001b[0m \u001b[38;5;28;01mif\u001b[39;00m \u001b[38;5;129;01mnot\u001b[39;00m \u001b[38;5;28mself\u001b[39m\u001b[38;5;241m.\u001b[39m_check_linear_independence():\n\u001b[1;32m---> 41\u001b[0m     \u001b[38;5;28;01mraise\u001b[39;00m \u001b[38;5;167;01mValueError\u001b[39;00m(\u001b[38;5;124m\"\u001b[39m\u001b[38;5;124mThe provided vectors are not linearly independent.\u001b[39m\u001b[38;5;124m\"\u001b[39m)\n\u001b[0;32m     43\u001b[0m \u001b[38;5;28mself\u001b[39m\u001b[38;5;241m.\u001b[39morthonormal_basis \u001b[38;5;241m=\u001b[39m \u001b[38;5;28;01mNone\u001b[39;00m\n",
      "\u001b[1;31mValueError\u001b[0m: The provided vectors are not linearly independent."
     ]
    }
   ],
   "source": [
    "# Including a zero vector, should handle gracefully\n",
    "vectors_with_zero = [[0, 0, 0], [1, 0, 1], [0, 1, 1]]\n",
    "gs_with_zero = GramSchmidt(3, vectors_with_zero)\n",
    "orthonormal_basis_with_zero = gs_with_zero.process()\n",
    "print(gs_with_zero)\n"
   ]
  },
  {
   "cell_type": "code",
   "execution_count": 20,
   "metadata": {},
   "outputs": [
    {
     "name": "stdout",
     "output_type": "stream",
     "text": [
      "The provided vectors are not linearly independent.\n"
     ]
    }
   ],
   "source": [
    "# Linearly dependent vectors, should raise an error if linear independence check is implemented\n",
    "try:\n",
    "    vectors_dependent = [[1, 1, 1], [2, 2, 2], [3, 3, 3]]\n",
    "    gs_dependent = GramSchmidt(3, vectors_dependent)\n",
    "    orthonormal_basis_dependent = gs_dependent.process()\n",
    "    print(gs_dependent)\n",
    "except ValueError as e:\n",
    "    print(e)\n"
   ]
  },
  {
   "cell_type": "code",
   "execution_count": 21,
   "metadata": {},
   "outputs": [
    {
     "name": "stdout",
     "output_type": "stream",
     "text": [
      "Orthonormal basis: [1.0000, 0.0000, 0.0000, 0.0000], [0.0000, 1.0000, 0.0000, 0.0000], [0.0000, 0.0000, 1.0000, 0.0000], [0.0000, 0.0000, 0.0000, 1.0000]\n"
     ]
    }
   ],
   "source": [
    "# Testing with 4D vectors\n",
    "vectors_4d = [[1, 0, 0, 0], [0, 1, 0, 0], [0, 0, 1, 0], [0, 0, 0, 1]]\n",
    "gs_4d = GramSchmidt(4, vectors_4d)\n",
    "orthonormal_basis_4d = gs_4d.process()\n",
    "print(gs_4d)\n"
   ]
  }
 ],
 "metadata": {
  "kernelspec": {
   "display_name": "Python 3",
   "language": "python",
   "name": "python3"
  },
  "language_info": {
   "codemirror_mode": {
    "name": "ipython",
    "version": 3
   },
   "file_extension": ".py",
   "mimetype": "text/x-python",
   "name": "python",
   "nbconvert_exporter": "python",
   "pygments_lexer": "ipython3",
   "version": "3.12.8"
  }
 },
 "nbformat": 4,
 "nbformat_minor": 2
}
