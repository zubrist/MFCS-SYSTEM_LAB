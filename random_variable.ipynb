{
 "cells": [
  {
   "cell_type": "markdown",
   "metadata": {},
   "source": [
    "# Problem Statement"
   ]
  },
  {
   "cell_type": "code",
   "execution_count": 1,
   "metadata": {},
   "outputs": [],
   "source": [
    "#import all modules\n",
    "import numpy as np\n",
    "import matplotlib.pyplot as plt\n",
    "import math\n",
    "from operator import mul"
   ]
  },
  {
   "cell_type": "code",
   "execution_count": 2,
   "metadata": {},
   "outputs": [],
   "source": [
    "# poisson distribution\n",
    "def poisson_pmf(Lambda, no_of_events):\n",
    "    '''\n",
    "    Arguments :\n",
    "        Lambda(float, >0): the value of lambda\n",
    "        no_of_events(int, 0 to inf): no of the events\n",
    "    returns :\n",
    "        probability(float, 0 to 1): probability of no_of_events occuring \n",
    "    '''\n",
    "    probability = np.exp(-Lambda)*math.pow(Lambda, no_of_events) / np.prod([i for i in range(1, no_of_events+1)])\n",
    "\n",
    "    return probability"
   ]
  },
  {
   "cell_type": "markdown",
   "metadata": {},
   "source": [
    "# Binomial Random Variable\n",
    "\n",
    "A binomial random variable models the number of successes in a fixed number of independent Bernoulli trials, each with a constant probability of success.\n",
    "\n",
    ">The probability of getting exactly k successes in n trials is given by:\n",
    "\n",
    "$P(X = k) = \\binom{n}{k} \\cdot p^k \\cdot (1-p)^{n-k}$\n",
    "\n",
    "\n",
    "Where:\n",
    "\n",
    "- $P(X = k):$ Probability of k successes in `n` trials\n",
    "\n",
    "- $\\binom{n}{k}:$ Binomial coefficient, also denoted as `nCk` or `n` choose `k`, which represents the number of ways to choose `k` items from a set of `n` items.\n",
    "\n",
    "- $p:$ Probability of success on a single trial\n",
    "\n",
    "- $(1-p)^{n-k}:$ Probability of n-k failures\n",
    "\n",
    "**Example:**\n",
    "\n",
    "Consider flipping a coin 10 times. Let's say the probability of getting heads on a single flip is `p = 0.5`.\n",
    "\n",
    "- P(X = 3): Probability of getting `3` heads in `10` flips = $\\binom{1}{3} * 0.5^{3} * 0.5^{7}$\n",
    "\n",
    ">The binomial random variable helps us understand and quantify the number of successes in a fixed number of independent trials."
   ]
  },
  {
   "cell_type": "code",
   "execution_count": 2,
   "metadata": {},
   "outputs": [],
   "source": [
    "import math\n",
    "\n",
    "def get_binomial_prob(n: int, p: float, vals: list[int]) -> list[float]:\n",
    "    \"\"\"\n",
    "    Calculates the binomial probability for a given set of values.\n",
    "\n",
    "    Args:\n",
    "        n (int): The number of trials.\n",
    "        p (float): The probability of success on each trial.\n",
    "        vals (list): A list of integer values representing the number of successes.\n",
    "\n",
    "    Returns:\n",
    "        list: A list of probabilities corresponding to the input values,\n",
    "              where the probability at index i corresponds to the value at index i in the input list.\n",
    "\n",
    "    Raises:\n",
    "        ValueError: If the input probability `p` is not between 0 and 1, or if the input values contain non-integer or negative values,\n",
    "                    or if the number of trials `n` is non-positive.\n",
    "\n",
    "    Example:\n",
    "        ```python\n",
    "        probabilities = get_binomial_prob(10, 0.5, [2, 3, 4])\n",
    "        print(probabilities)  # Output: [0.0439453125, 0.1171875, 0.205078125]\n",
    "        ```\n",
    "    \"\"\"\n",
    "\n",
    "    if not 0 < p < 1:\n",
    "        raise ValueError(\"Probability p must be between 0 and 1.\")\n",
    "    if n <= 0:\n",
    "        raise ValueError(\"Number of trials n must be positive.\")\n",
    "    if not all(isinstance(val, int) and 0 <= val <= n for val in vals):\n",
    "        raise ValueError(\"All values in the list must be non-negative integers less than or equal to n.\")\n",
    "\n",
    "    probs = [math.comb(n, k) * p**k * (1-p)**(n-k) for k in vals]\n",
    "    return probs"
   ]
  },
  {
   "cell_type": "code",
   "execution_count": 3,
   "metadata": {},
   "outputs": [
    {
     "name": "stdout",
     "output_type": "stream",
     "text": [
      "P(X=1) = 0.009765625\n",
      "P(X=2) = 0.0439453125\n",
      "P(X=3) = 0.1171875\n",
      "P(X=4) = 0.205078125\n",
      "P(X=5) = 0.24609375\n",
      "P(X=6) = 0.205078125\n",
      "P(X=7) = 0.1171875\n",
      "P(X=8) = 0.0439453125\n",
      "P(X=9) = 0.009765625\n",
      "P(X=10) = 0.0009765625\n"
     ]
    }
   ],
   "source": [
    "n= 10\n",
    "p= 0.5\n",
    "vals = range(1,11)\n",
    "probs = get_binomial_prob(n, p, vals)\n",
    "\n",
    "for val, prob in zip(vals, probs):\n",
    "    print(f\"P(X={val}) = {prob}\")"
   ]
  },
  {
   "cell_type": "code",
   "execution_count": 4,
   "metadata": {},
   "outputs": [
    {
     "data": {
      "image/png": "[encoded data removed]",
      "text/plain": [
       "<Figure size 640x480 with 1 Axes>"
      ]
     },
     "metadata": {},
     "output_type": "display_data"
    }
   ],
   "source": [
    "import matplotlib.pyplot as plt\n",
    "\n",
    "plt.bar(vals, probs, color='gray', edgecolor='red', align='center', alpha=0.6, width=0.18)\n",
    "plt.xlabel(\"Number of Successes (X)\")\n",
    "plt.ylabel(\"Probability P(X)\")\n",
    "plt.title(\"Binomial Probability Distribution (n=10, p=0.5)\")\n",
    "plt.show()"
   ]
  }
 ],
 "metadata": {
  "kernelspec": {
   "display_name": "Python 3",
   "language": "python",
   "name": "python3"
  },
  "language_info": {
   "codemirror_mode": {
    "name": "ipython",
    "version": 3
   },
   "file_extension": ".py",
   "mimetype": "text/x-python",
   "name": "python",
   "nbconvert_exporter": "python",
   "pygments_lexer": "ipython3",
   "version": "3.11.9"
  }
 },
 "nbformat": 4,
 "nbformat_minor": 2
}
