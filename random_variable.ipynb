{
 "cells": [
  {
   "cell_type": "markdown",
   "metadata": {},
   "source": [
    "# Problem Statement"
   ]
  },
  {
   "cell_type": "code",
   "execution_count": 1,
   "metadata": {},
   "outputs": [],
   "source": [
    "#import all modules\n",
    "import numpy as np\n",
    "import matplotlib.pyplot as plt\n",
    "import math\n",
    "from operator import mul"
   ]
  },
  {
   "cell_type": "code",
   "execution_count": 2,
   "metadata": {},
   "outputs": [],
   "source": [
    "# poisson distribution\n",
    "def poisson_pmf(Lambda, no_of_events):\n",
    "    '''\n",
    "    Arguments :\n",
    "        Lambda(float, >0): the value of lambda\n",
    "        no_of_events(int, 0 to inf): no of the events\n",
    "    returns :\n",
    "        probability(float, 0 to 1): probability of no_of_events occuring \n",
    "    '''\n",
    "    probability = np.exp(-Lambda)*math.pow(Lambda, no_of_events) / np.prod([i for i in range(1, no_of_events+1)])\n",
    "\n",
    "    return probability"
   ]
  }
 ],
 "metadata": {
  "kernelspec": {
   "display_name": "Python 3",
   "language": "python",
   "name": "python3"
  },
  "language_info": {
   "codemirror_mode": {
    "name": "ipython",
    "version": 3
   },
   "file_extension": ".py",
   "mimetype": "text/x-python",
   "name": "python",
   "nbconvert_exporter": "python",
   "pygments_lexer": "ipython3",
   "version": "3.11.9"
  }
 },
 "nbformat": 4,
 "nbformat_minor": 2
}
